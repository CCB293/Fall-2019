{
  "nbformat": 4,
  "nbformat_minor": 0,
  "metadata": {
    "colab": {
      "name": "CCB293_Health_Inference.ipynb",
      "provenance": [],
      "collapsed_sections": []
    },
    "kernelspec": {
      "name": "python3",
      "display_name": "Python 3"
    },
    "accelerator": "GPU"
  },
  "cells": [
    {
      "cell_type": "markdown",
      "metadata": {
        "id": "1hIOV-b1z6Yr",
        "colab_type": "text"
      },
      "source": [
        "# Installation"
      ]
    },
    {
      "cell_type": "code",
      "metadata": {
        "id": "SwqNz5wQAqle",
        "colab_type": "code",
        "colab": {}
      },
      "source": [
        "my_individual = 'NA20761' # HG00634"
      ],
      "execution_count": 0,
      "outputs": []
    },
    {
      "cell_type": "code",
      "metadata": {
        "id": "NgLm6wMzVz2q",
        "colab_type": "code",
        "colab": {}
      },
      "source": [
        "# 2-3 min.\n",
        "%%capture\n",
        "!apt install autoconf autogen\n",
        "!git clone https://github.com/vcftools/vcftools.git\n",
        "!cd vcftools && ./autogen.sh && ./configure && make && make install\n",
        "!git clone https://github.com/samtools/htslib.git\n",
        "!cd htslib && autoheader && autoconf && ./configure && make && make install\n",
        "!wget http://s3.amazonaws.com/plink1-assets/plink_linux_x86_64_20191028.zip -O plink.zip\n",
        "!unzip plink.zip\n",
        "!chmod +x plink\n",
        "!git clone https://github.com/gonzalobenegas/CCB293_Health_Inference_Tutorial.git"
      ],
      "execution_count": 0,
      "outputs": []
    },
    {
      "cell_type": "code",
      "metadata": {
        "id": "oChZQRfBZ4Yu",
        "colab_type": "code",
        "colab": {}
      },
      "source": [
        "# Extra installation steps not necessary today\n",
        "#%%capture\n",
        "#!git clone https://github.com/Ensembl/ensembl-vep\n",
        "#%cd ensembl-vep\n",
        "#!export PERL_MM_USE_DEFAULT=1 && cpan App::cpanminus\n",
        "#!apt install mysql-server\n",
        "#!apt install libmysqlclient-dev\n",
        "#!cpanm DBI\n",
        "#!cpanm Archive::Zip\n",
        "#!cpanm DBD::mysql\n",
        "#!cpanm Try::Tiny\n",
        "# This can take up to an hour.\n",
        "#!perl INSTALL.pl"
      ],
      "execution_count": 0,
      "outputs": []
    },
    {
      "cell_type": "code",
      "metadata": {
        "id": "fjcRoWSsEyzs",
        "colab_type": "code",
        "colab": {}
      },
      "source": [
        "# Download VCF for all 1000 Genomes individuals, chr16\n",
        "# 2-3 min. (can take up to 10 min. occasionally)\n",
        "!wget ftp://ftp.1000genomes.ebi.ac.uk/vol1/ftp/release/20130502/ALL.chr16.phase3_shapeit2_mvncall_integrated_v5a.20130502.genotypes.vcf.gz\n",
        "!wget ftp://ftp.1000genomes.ebi.ac.uk/vol1/ftp/release/20130502/ALL.chr16.phase3_shapeit2_mvncall_integrated_v5a.20130502.genotypes.vcf.gz.tbi"
      ],
      "execution_count": 0,
      "outputs": []
    },
    {
      "cell_type": "code",
      "metadata": {
        "id": "yP4UH6VXVkxS",
        "colab_type": "code",
        "colab": {}
      },
      "source": [
        "# load the libraries\n",
        "import matplotlib.pyplot as plt\n",
        "from collections import Counter\n",
        "import numpy as np\n",
        "import pandas as pd\n",
        "import colorsys\n",
        "import seaborn as sns\n",
        "import subprocess\n",
        "from IPython.display import Image\n",
        "import os\n",
        "import seaborn as sns\n",
        "sns.set(style=\"ticks\")"
      ],
      "execution_count": 0,
      "outputs": []
    },
    {
      "cell_type": "markdown",
      "metadata": {
        "id": "5_UMPQcrj5XP",
        "colab_type": "text"
      },
      "source": [
        "# Exploring input data"
      ]
    },
    {
      "cell_type": "code",
      "metadata": {
        "id": "8cIhr6hF5_fp",
        "colab_type": "code",
        "colab": {}
      },
      "source": [
        "# Individuals information\n",
        "individuals = pd.read_csv('CCB293_Health_Inference_Tutorial/data/individuals.csv', '\\t')\n",
        "my_super_population = individuals.super_population[individuals.individual==my_individual].values[0]\n",
        "my_population = individuals.population[individuals.individual==my_individual].values[0]\n",
        "individuals"
      ],
      "execution_count": 0,
      "outputs": []
    },
    {
      "cell_type": "code",
      "metadata": {
        "id": "LcjOx8wIJ4iG",
        "colab_type": "code",
        "colab": {}
      },
      "source": [
        "# Information about my individual\n",
        "individuals[individuals.individual==my_individual]"
      ],
      "execution_count": 0,
      "outputs": []
    },
    {
      "cell_type": "code",
      "metadata": {
        "id": "QRALOlpykHBG",
        "colab_type": "code",
        "colab": {}
      },
      "source": [
        "# First lines of VCF file\n",
        "!zcat ALL.chr16.phase3_shapeit2_mvncall_integrated_v5a.20130502.genotypes.vcf.gz | head -n 300"
      ],
      "execution_count": 0,
      "outputs": []
    },
    {
      "cell_type": "code",
      "metadata": {
        "id": "PHqqkYAjXYj9",
        "colab_type": "code",
        "colab": {}
      },
      "source": [
        "# 10 minutes\n",
        "# Filter only those variants with at least 1 copy in my individual\n",
        "os.system('vcftools --gzvcf ALL.chr16.phase3_shapeit2_mvncall_integrated_v5a.20130502.genotypes.vcf.gz --indv {} --recode --out my_ind --non-ref-ac-any 1'.format(my_individual))"
      ],
      "execution_count": 0,
      "outputs": []
    },
    {
      "cell_type": "code",
      "metadata": {
        "id": "k83xBrPBwccz",
        "colab_type": "code",
        "colab": {}
      },
      "source": [
        "# First lines of my individual's VCF\n",
        "# You can look at specific variant information in https://www.ncbi.nlm.nih.gov/snp/\n",
        "!head -n 300 my_ind.recode.vcf"
      ],
      "execution_count": 0,
      "outputs": []
    },
    {
      "cell_type": "code",
      "metadata": {
        "id": "m86o043Qf1YK",
        "colab_type": "code",
        "colab": {}
      },
      "source": [
        "# Extract snp ids of my individual\n",
        "!sed '/##/d' my_ind.recode.vcf | cut -f3 > my_ind.snps\n",
        "my_ind_snps = pd.read_csv('my_ind.snps').values.ravel()"
      ],
      "execution_count": 0,
      "outputs": []
    },
    {
      "cell_type": "code",
      "metadata": {
        "id": "-UCVw2H6MoKx",
        "colab_type": "code",
        "colab": {}
      },
      "source": [
        "# Exercise: how many variants does my individual have on chromosome 16?\n",
        "# How many variants are there in total in chromosome 16 among all individuals?"
      ],
      "execution_count": 0,
      "outputs": []
    },
    {
      "cell_type": "markdown",
      "metadata": {
        "id": "_AEUuca1zwV3",
        "colab_type": "text"
      },
      "source": [
        "# Variant effect prediction"
      ]
    },
    {
      "cell_type": "code",
      "metadata": {
        "id": "E16XSp1sCtjL",
        "colab_type": "code",
        "colab": {}
      },
      "source": [
        "# Documentation about consequences:\n",
        "# https://uswest.ensembl.org/info/genome/variation/prediction/predicted_data.html\n",
        "Image(filename='CCB293_Health_Inference_Tutorial/data/consequences.jpg', height=500)"
      ],
      "execution_count": 0,
      "outputs": []
    },
    {
      "cell_type": "code",
      "metadata": {
        "id": "Jo3FQ7TNLV3E",
        "colab_type": "code",
        "colab": {}
      },
      "source": [
        "# This can take several hours - it has already been precomputed\n",
        "# VEP software documentation: https://uswest.ensembl.org/info/docs/tools/vep/script/vep_tutorial.html\n",
        "#!./vep -i ALL.chr16.phase3_shapeit2_mvncall_integrated_v5a.20130502.genotypes.vcf.gz --cache --force_overwrite --sift b --canonical"
      ],
      "execution_count": 0,
      "outputs": []
    },
    {
      "cell_type": "code",
      "metadata": {
        "id": "NmUQBxwjzTzu",
        "colab_type": "code",
        "colab": {}
      },
      "source": [
        "# Loading precomputed results\n",
        "!gunzip CCB293_Health_Inference_Tutorial/data/variant_effect_output.txt.gz"
      ],
      "execution_count": 0,
      "outputs": []
    },
    {
      "cell_type": "code",
      "metadata": {
        "id": "5UmjF9dggp6v",
        "colab_type": "code",
        "colab": {}
      },
      "source": [
        "# Results file from VEP\n",
        "# More information about specific variants: https://www.ncbi.nlm.nih.gov/snp/\n",
        "!head -n 100 CCB293_Health_Inference_Tutorial/data/variant_effect_output.txt"
      ],
      "execution_count": 0,
      "outputs": []
    },
    {
      "cell_type": "code",
      "metadata": {
        "id": "W01wpSkn0Tpz",
        "colab_type": "code",
        "colab": {}
      },
      "source": [
        "# Load results into a Pandas DataFrame\n",
        "variants_effect = pd.read_csv('CCB293_Health_Inference_Tutorial/data/variant_effect_output.txt', header=None, comment='#', delim_whitespace=True,\n",
        "                   names=['Uploaded_variation',\t'Location', 'Allele', 'Gene', 'Feature', 'Feature_type', 'Consequence', 'cDNA_position', 'CDS_position', 'Protein_position', 'Amino_acids', 'Codons', 'Existing_variation', 'Extra'])\n",
        "# Filter for variant effect predictions on the canonical transcript of each gene\n",
        "variants_effect = variants_effect[variants_effect.Extra.str.contains('CANONICAL=YES')]\n",
        "variants_effect"
      ],
      "execution_count": 0,
      "outputs": []
    },
    {
      "cell_type": "code",
      "metadata": {
        "id": "jT5l7-dvsEbu",
        "colab_type": "code",
        "colab": {}
      },
      "source": [
        "# Filtering for MC1R gene, a G protein-coupled receptor involved in pigmentation and associated with cancer\n",
        "# https://en.wikipedia.org/wiki/Melanocortin_1_receptor\n",
        "gene_variants_effect = variants_effect[variants_effect.Gene=='ENSG00000258839']\n",
        "gene_variants_effect"
      ],
      "execution_count": 0,
      "outputs": []
    },
    {
      "cell_type": "code",
      "metadata": {
        "id": "ehLPx8X16phW",
        "colab_type": "code",
        "colab": {}
      },
      "source": [
        "# Histogram of MC1R variant consequences\n",
        "sns.countplot(x='Consequence', data=gene_variants_effect)\n",
        "plt.xticks(rotation=90);"
      ],
      "execution_count": 0,
      "outputs": []
    },
    {
      "cell_type": "code",
      "metadata": {
        "id": "XXxWLHz3tFHk",
        "colab_type": "code",
        "colab": {}
      },
      "source": [
        "# Filtering for MC1R variants in my individual\n",
        "my_ind_gene_variants_effect = gene_variants_effect[gene_variants_effect.Uploaded_variation.isin(my_ind_snps)]\n",
        "my_ind_gene_variants_effect"
      ],
      "execution_count": 0,
      "outputs": []
    },
    {
      "cell_type": "code",
      "metadata": {
        "id": "AnrXRVhCiYeH",
        "colab_type": "code",
        "colab": {}
      },
      "source": [
        "# Exercise: how many of these variants change the protein / amino acid sequence of MC1R? What are the protein changes?"
      ],
      "execution_count": 0,
      "outputs": []
    },
    {
      "cell_type": "code",
      "metadata": {
        "id": "fhVXKcqETYRu",
        "colab_type": "code",
        "colab": {}
      },
      "source": [
        "# Exercise: pick one of your protein-altering variants and check whether your individual is homozygous or heterozygous for that variant."
      ],
      "execution_count": 0,
      "outputs": []
    },
    {
      "cell_type": "code",
      "metadata": {
        "id": "8izrfEoK8HdK",
        "colab_type": "code",
        "colab": {}
      },
      "source": [
        "# Histogram of MC1R variant consequences in my individual\n",
        "sns.countplot(x='Consequence', data=my_ind_gene_variants_effect)\n",
        "plt.xticks(rotation=90);"
      ],
      "execution_count": 0,
      "outputs": []
    },
    {
      "cell_type": "code",
      "metadata": {
        "id": "OcCLnvEV8QTu",
        "colab_type": "code",
        "colab": {}
      },
      "source": [
        "# Look for extra annotation in missense variants\n",
        "my_ind_gene_variants_effect[my_ind_gene_variants_effect.Consequence=='missense_variant'].Extra.values"
      ],
      "execution_count": 0,
      "outputs": []
    },
    {
      "cell_type": "code",
      "metadata": {
        "id": "lMhOz30GrGFt",
        "colab_type": "code",
        "colab": {}
      },
      "source": [
        "# Exercise: look at variants of my individual on HBA1, hemoglobin subunit alpha 1 (ENSG00000206172)"
      ],
      "execution_count": 0,
      "outputs": []
    },
    {
      "cell_type": "code",
      "metadata": {
        "id": "WejNL7nDDSAP",
        "colab_type": "code",
        "colab": {}
      },
      "source": [
        "# Exercise: make a histogram of consequences (in canonical transcript) of type\n",
        "# 'stop_gained', 'stop_lost', 'frameshift_variant', 'missense_variant', 'synonymous_variant', 'splice_acceptor_variant', 'splice_donor_variant', 'intron_variant'\n",
        "# seen in all of chromosome 16 in the assigned individual"
      ],
      "execution_count": 0,
      "outputs": []
    },
    {
      "cell_type": "markdown",
      "metadata": {
        "id": "9RbhOXS1xFZx",
        "colab_type": "text"
      },
      "source": [
        "# Polygenic risk scores"
      ]
    },
    {
      "cell_type": "code",
      "metadata": {
        "id": "L7WoTLNqxFNY",
        "colab_type": "code",
        "colab": {}
      },
      "source": [
        "# Downloading four polygenic risk scores for height, obtained from:\n",
        "# https://github.com/msohail88/polygenic_selection/tree/master/polygenic_scores_pipeline\n",
        "# The original GWAS summary statistics files used to develop the PRS are available at the following links:\n",
        "# GIANT: https://portals.broadinstitute.org/collaboration/giant/index.php/GIANT_consortium_data_files#GIANT_Consortium_2012-2015_GWAS_Summary_Statistics\n",
        "# UK Biobank (standing height = phenotype code 50): https://docs.google.com/spreadsheets/d/1b3oGI2lUt57BcuHttWaZotQcI0-mBRPyZihz87Ms_No/edit#gid=1209628142\n",
        "%%capture\n",
        "!wget https://www.dropbox.com/sh/qi80hwjusnrt0nz/AABJ-lpSUa018qWWp3NSEVnia?dl=1 -O tutorial_files.zip\n",
        "!unzip tutorial_files.zip"
      ],
      "execution_count": 0,
      "outputs": []
    },
    {
      "cell_type": "code",
      "metadata": {
        "id": "UsCSF2u9xzid",
        "colab_type": "code",
        "colab": {}
      },
      "source": [
        "# GWAS summary statistics from the GIANT study\n",
        "# A1: effect allele\n",
        "# A2: non-effect allele\n",
        "# afa1: allele frequency of effect allele in GWAS population\n",
        "# b: effect size (log-odds ratio per copy of effect allele)\n",
        "# SE: standard error in effect size\n",
        "# P: p-value (used for filtering)\n",
        "# N: number of individuals in study\n",
        "pd.read_csv('GIANT_HEIGHT_Wood_et_al_2014_publicrelease_HapMapCeuFreq.header.txt.clumpedout.0.01', delim_whitespace=True)"
      ],
      "execution_count": 0,
      "outputs": []
    },
    {
      "cell_type": "code",
      "metadata": {
        "id": "gDzlLaEVvs9z",
        "colab_type": "code",
        "colab": {}
      },
      "source": [
        "# GWAS summary statistics from the UK BioBank study\n",
        "# tstat: t-statistic\n",
        "pd.read_csv('50.assoc.tsv.processed.nodups.clumpedout.0.01', delim_whitespace=True)"
      ],
      "execution_count": 0,
      "outputs": []
    },
    {
      "cell_type": "code",
      "metadata": {
        "id": "XameYzQLyeEv",
        "colab_type": "code",
        "colab": {}
      },
      "source": [
        "# Exercise: what is the difference between the four scores? Do the number of SNPs in each score make sense?"
      ],
      "execution_count": 0,
      "outputs": []
    },
    {
      "cell_type": "code",
      "metadata": {
        "id": "wWtgXwf6p1I6",
        "colab_type": "code",
        "colab": {}
      },
      "source": [
        "# Exercise: describe the variant with the highest effect size in each score. Is it in a coding region? If so, in which gene?"
      ],
      "execution_count": 0,
      "outputs": []
    },
    {
      "cell_type": "code",
      "metadata": {
        "id": "86n6Bq-oy3CG",
        "colab_type": "code",
        "colab": {}
      },
      "source": [
        "# Scoring each individual\n",
        "# ./plink --vcf <vcf_file> --score <GWAS summary statistics> <snp_id column> <effect allele column> <effect size column> <file_includes_header> <sum or average> --out <out_directory> \n",
        "# https://www.cog-genomics.org/plink/1.9/score\n",
        "!./plink --vcf 1KG_snps_subsetted.vcf.gz --score GIANT_HEIGHT_Wood_et_al_2014_publicrelease_HapMapCeuFreq.header.txt.clumpedout.0.01 1 2 5 header sum --out giant_prs_0.01"
      ],
      "execution_count": 0,
      "outputs": []
    },
    {
      "cell_type": "code",
      "metadata": {
        "id": "PGLobV2O36Ob",
        "colab_type": "code",
        "colab": {}
      },
      "source": [
        "!./plink --vcf 1KG_snps_subsetted.vcf.gz --score \"GIANT_HEIGHT_Wood_et_al_2014_publicrelease_HapMapCeuFreq.header.txt.clumpedout.5E-8\" 1 2 5 header sum --out \"giant_prs_5E-8\""
      ],
      "execution_count": 0,
      "outputs": []
    },
    {
      "cell_type": "code",
      "metadata": {
        "id": "TM0hc-BX4Thf",
        "colab_type": "code",
        "colab": {}
      },
      "source": [
        "!./plink --vcf 1KG_snps_subsetted.vcf.gz --score \"50.assoc.tsv.processed.nodups.clumpedout.0.01\" 1 2 5 header sum --out \"50_assoc_0.01\""
      ],
      "execution_count": 0,
      "outputs": []
    },
    {
      "cell_type": "code",
      "metadata": {
        "id": "01LNqBG-y4c5",
        "colab_type": "code",
        "colab": {}
      },
      "source": [
        " !./plink --vcf 1KG_snps_subsetted.vcf.gz --score \"50.assoc.tsv.processed.nodups.clumpedout.5E-8\" 1 2 5 header sum --out \"50_assoc_5E-8\""
      ],
      "execution_count": 0,
      "outputs": []
    },
    {
      "cell_type": "code",
      "metadata": {
        "id": "G-6viSMcx8Y4",
        "colab_type": "code",
        "colab": {}
      },
      "source": [
        "# Output score for each individual\n",
        "# PHENO = phenotype if available, -9 if not available\n",
        "# CNT = total allele count\n",
        "# CNT2 = number of effect alleles\n",
        "# SCORESUM = polygenic score\n",
        "pd.read_csv('giant_prs_0.01.profile', delim_whitespace=True)"
      ],
      "execution_count": 0,
      "outputs": []
    },
    {
      "cell_type": "code",
      "metadata": {
        "id": "dIdQXijF_qqr",
        "colab_type": "code",
        "colab": {}
      },
      "source": [
        "# Loading results from the four scores into one DataFrame to plot results easily\n",
        "\n",
        "def load_results(name):\n",
        "    results = pd.read_csv(name+'.profile', delim_whitespace=True).merge(individuals, left_on='FID', right_on='individual')\n",
        "    results['method'] = name\n",
        "    # Standardizing the polygenic score\n",
        "    results['standardized_score'] = (results.SCORESUM - results.SCORESUM.mean()) / results.SCORESUM.std()\n",
        "    results['standardized_score_EUR'] = (results.SCORESUM - results.SCORESUM[results.super_population=='EUR'].mean()) / results.SCORESUM[results.super_population=='EUR'].std()\n",
        "    results['standardized_score_my_super_population'] = (results.SCORESUM - results.SCORESUM[results.super_population==my_super_population].mean()) / results.SCORESUM[results.super_population==my_super_population].std()\n",
        "    results['standardized_score_my_population'] = (results.SCORESUM - results.SCORESUM[results.population==my_population].mean()) / results.SCORESUM[results.population==my_population].std()\n",
        "    return results\n",
        "\n",
        "results = pd.concat([load_results(study) for study in ['giant_prs_0.01', 'giant_prs_5E-8', '50_assoc_0.01', '50_assoc_5E-8']])\n",
        "# Defining population of my individual as 'My individual' to plot it separately\n",
        "results.population[results.individual==my_individual] = 'My individual'\n",
        "results.super_population[results.individual==my_individual] = 'My individual'    "
      ],
      "execution_count": 0,
      "outputs": []
    },
    {
      "cell_type": "code",
      "metadata": {
        "id": "N4-cXLrXVrLe",
        "colab_type": "code",
        "colab": {}
      },
      "source": [
        "# Plotting scores on the European populations\n",
        "sns.boxplot(x=\"population\", y=\"standardized_score_EUR\",\n",
        "            hue=\"method\",\n",
        "            data=results[results.super_population=='EUR']);\n",
        "plt.legend(bbox_to_anchor=(1.05, 1), loc=2, borderaxespad=0.);"
      ],
      "execution_count": 0,
      "outputs": []
    },
    {
      "cell_type": "code",
      "metadata": {
        "id": "lR3bJ7nIFBdw",
        "colab_type": "code",
        "colab": {}
      },
      "source": [
        "# Plotting scores on my continental group\n",
        "sns.boxplot(x=\"population\", y=\"standardized_score_my_super_population\",\n",
        "            hue=\"method\",\n",
        "            data=results[results.super_population.isin([my_super_population, 'My individual'])]);\n",
        "plt.legend(bbox_to_anchor=(1.05, 1), loc=2, borderaxespad=0.);"
      ],
      "execution_count": 0,
      "outputs": []
    },
    {
      "cell_type": "code",
      "metadata": {
        "id": "XQuWdql1Ffoi",
        "colab_type": "code",
        "colab": {}
      },
      "source": [
        "# Plotting scores on my population\n",
        "sns.boxplot(x=\"population\", y=\"standardized_score_my_population\",\n",
        "            hue=\"method\",\n",
        "            data=results[results.population.isin([my_population, 'My individual'])]);\n",
        "plt.legend(bbox_to_anchor=(1.05, 1), loc=2, borderaxespad=0.);"
      ],
      "execution_count": 0,
      "outputs": []
    },
    {
      "cell_type": "code",
      "metadata": {
        "id": "jDwSGgGpDKLB",
        "colab_type": "code",
        "colab": {}
      },
      "source": [
        "# Comparing scores across continental groups\n",
        "sns.boxplot(x=\"super_population\", y=\"standardized_score\",\n",
        "            hue=\"method\",\n",
        "            data=results);\n",
        "plt.legend(bbox_to_anchor=(1.05, 1), loc=2, borderaxespad=0.);"
      ],
      "execution_count": 0,
      "outputs": []
    }
  ]
}